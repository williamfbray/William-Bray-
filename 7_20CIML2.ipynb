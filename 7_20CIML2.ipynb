{
 "cells": [
  {
   "cell_type": "code",
   "execution_count": 22,
   "id": "5b11c069",
   "metadata": {},
   "outputs": [
    {
     "data": {
      "text/html": [
       "<style>.container { width:100% !important; }</style>"
      ],
      "text/plain": [
       "<IPython.core.display.HTML object>"
      ]
     },
     "metadata": {},
     "output_type": "display_data"
    },
    {
     "name": "stdout",
     "output_type": "stream",
     "text": [
      "0      NaN\n",
      "1      1.0\n",
      "2      NaN\n",
      "3      NaN\n",
      "4      NaN\n",
      "      ... \n",
      "987    0.0\n",
      "988    0.0\n",
      "989    0.0\n",
      "990    1.0\n",
      "991    NaN\n",
      "Name: CI candidate, Length: 886, dtype: float64\n"
     ]
    }
   ],
   "source": [
    "import os\n",
    "import numpy as np\n",
    "import pandas as pd\n",
    "import matplotlib.pyplot as plt\n",
    "import datetime\n",
    "import math\n",
    "import missingno as msno\n",
    "from IPython.display import display, HTML\n",
    "display(HTML(\"<style>.container { width:100% !important; }</style>\"))\n",
    "#import dataset\n",
    "CI_df = pd.read_excel(r\"/Users/williambray/Downloads/OLD_CI Registry Dataset.copy.xlsx\") \n",
    "CI_df_final = prepare_dataset(CI_df)\n",
    "print(CI_df_final['CI candidate'])"
   ]
  },
  {
   "cell_type": "code",
   "execution_count": 23,
   "id": "824c20f7",
   "metadata": {},
   "outputs": [],
   "source": [
    "CI_df_final.to_excel('Old_CI_merge(7).xlsx', index=True)"
   ]
  },
  {
   "cell_type": "markdown",
   "id": "f85a9340",
   "metadata": {},
   "source": [
    "###### #yrs no HA use could be made for some using HAcur when =yes"
   ]
  },
  {
   "cell_type": "code",
   "execution_count": 5,
   "id": "50c0abd5",
   "metadata": {},
   "outputs": [],
   "source": [
    "##Table of Contents\n",
    "def prepare_dataset(df):\n",
    "    #df=correct_laterality(df)\n",
    "    ###df=create_blank_WUSM_cols(df)-- housed in select_cols\n",
    "    df=create_CI_candidate_col(df)\n",
    "    df=create_CNC_candidacy_col(df)\n",
    "    df=create_Medicare_candidacy_col(df)\n",
    "    df=select_cols(df)\n",
    "    df=Fixerrors_CI_Dataset(df)\n",
    "    df=CI_changes(df)\n",
    "    df=year_replace(df)\n",
    "    ##df=impute_length_SPHL(df)\n",
    "    df=exclude_SSD(df)\n",
    "    ##df=remove_empty_col(df)\n",
    "    df=Laterality(df)\n",
    "    df=HA_use_col(df)\n",
    "    df=yrs_since_no_HA_use(df)\n",
    "    df=impute_PTA(df)\n",
    "    df=Age_of_onset(df)\n",
    "\n",
    "    return df"
   ]
  },
  {
   "cell_type": "markdown",
   "id": "bb02c2a1",
   "metadata": {
    "heading_collapsed": true
   },
   "source": [
    "# Select Columns"
   ]
  },
  {
   "cell_type": "markdown",
   "id": "863be7e0",
   "metadata": {},
   "source": [
    "# Fix Errors and Remove Columns"
   ]
  },
  {
   "cell_type": "code",
   "execution_count": 21,
   "id": "392b768f",
   "metadata": {},
   "outputs": [],
   "source": [
    "####select columns\n",
    "def select_cols(df):\n",
    "    cols=[ \n",
    "        'MRN',\n",
    "        #'Exclude',\n",
    "        'Age',\n",
    "        #'Zip9'\n",
    "        #'CrowFly'\n",
    "        #'ADI_State'\n",
    "        #'ADI_National'\n",
    "        #'Gender'\n",
    "        #'Race'\n",
    "        #'BMI'\n",
    "        #'ACE27',\n",
    "        'Etiology_ip',\n",
    "        'Etiology_cl',\n",
    "        'HLdur_ip',\n",
    "        'HLdur_cl',\n",
    "        'HLdurSP_ip',\n",
    "        'HLdurSP_cl',\n",
    "        'HLprg_ip',\n",
    "        'HLprg_cl',\n",
    "        'HAcur_ip',\n",
    "        'HAcur_cl',\n",
    "        'HAyrs_ip',\n",
    "        'HAyrs_cl',\n",
    "        'CanUseTele_ip',\n",
    "        'CanUseTele_cl',\n",
    "        'PriorES_ip',\n",
    "        'PriorES_cl',\n",
    "        'Tinnitus_ip',\n",
    "        'Tinnitus_cl',\n",
    "        'NoiseExp',\n",
    "        'NoiseExpYrs',\n",
    "        'HearingAidUse',\n",
    "        'Prelingual',\n",
    "        #'Tinnitus',\n",
    "        'Vertigo',\n",
    "        'Imbalance',\n",
    "        'FamilyHistoryHL',\n",
    "        'hz125_ip',\n",
    "        'hz250_ip',\n",
    "        'hz500_ip',\n",
    "        #'hz750_ip',\n",
    "        'hz1000_ip',\n",
    "        #'hz1500_ip',\n",
    "        'hz2000_ip',\n",
    "        'hz3000_ip',\n",
    "        'hz4000_ip',\n",
    "        'hz6000_ip',\n",
    "        'hz8000_ip',\n",
    "        'hz125_cl',\n",
    "        'hz250_cl',\n",
    "        'hz500_cl',\n",
    "        #'hz750_cl',\n",
    "        'hz1000_cl',\n",
    "        #'hz1500_cl',\n",
    "        'hz2000_cl',\n",
    "        'hz3000_cl',\n",
    "        'hz4000_cl',\n",
    "        'hz6000_cl',\n",
    "        'hz8000_cl',\n",
    "        'WRS_ip',\n",
    "        'WRS_cl',\n",
    "        'CNC_ip',\n",
    "        'CNC_cl',\n",
    "        'CNC_bi',\n",
    "        'AzBioQuiet_ip',\n",
    "        'AzBioQuiet_cl',\n",
    "        'AzBioQuiet_bi',\n",
    "        'AzBio5SNR_ip',\n",
    "        'AzBio5SNR_cl',\n",
    "        'AzBio5SNR_bi',\n",
    "        'AzBio10SNR_ip',\n",
    "        'AzBio10SNR_cl',\n",
    "        'AzBio10SNR_bi',\n",
    "        'MOCA',\n",
    "        #'MMSE',\n",
    "        'SSDCandidate',\n",
    "        #'HybridCandidate'\n",
    "        'CI candidate',\n",
    "        'CNC candidate',\n",
    "        'Medicare candidate',\n",
    "        'Lat',\n",
    "        \n",
    "         ]\n",
    "    df=df[cols]\n",
    "    blank_col=[\n",
    "    'L PTA (500, 1K, 2K, 4K)',\n",
    "    'L PTA (500, 1K, 2K)',\n",
    "    'Left Low Freq PTA (250, 500)',\n",
    "    'Left Low Frequency PTA (125, 250, 500)',\n",
    "    'R PTA (500, 1K, 2K, 4K)',\n",
    "    'R PTA (500, 1K, 2K)',\n",
    "    'Right Low Freq PTA (250, 500)',\n",
    "    'Right Low Frequency PTA (125, 250, 500)',\n",
    "    'Patient Data::Left Age of Onset',\n",
    "    'Patient Data::Left Years since No HA Use',\n",
    "    'Patient Data::Right Age of Onset',\n",
    "    'Patient Data::Right Years since No HA use'\n",
    "     ]\n",
    "    df=df.reindex(columns=cols+blank_col)\n",
    "    return df"
   ]
  },
  {
   "cell_type": "code",
   "execution_count": 19,
   "id": "25406304",
   "metadata": {},
   "outputs": [],
   "source": [
    "##create columns\n",
    "candidacy_cols=[\n",
    "        'Age at CI Evaluation'\n",
    "        'CNC Left',\n",
    "        'CNC Right',\n",
    "        'AzBio Binaural'\n",
    "        'AzBio + 10dB SNR - Binaural']\n",
    "#CI candidate=AZ Bio quiet or +10<60% binaural\n",
    "def create_CI_candidate_col(df):\n",
    "    #df['CI candidate']= df['AzBio + 10dB SNR - Binaural']<=60| (df['AzBio Binaural'] <= 60)\n",
    "    df.loc[(df['AzBioQuiet_bi']<=60)|(df['AzBio10SNR_bi']<= 60),'CI candidate']=1\n",
    "    df.loc[(df['AzBioQuiet_bi']>60)|(df['AzBio10SNR_bi'] > 60),'CI candidate']=0\n",
    "    #df.drop(df['CI candidate']==0)\n",
    "    return df\n",
    "#CNC candidacy- less than 40% (worst of either ear)\n",
    "def create_CNC_candidacy_col(df):\n",
    "    #df['CNC candidate']=df['CNC Left']<=40|(df['CNC Right']<=40)\n",
    "    df.loc[(df['CNC_ip']<=40)&(df['CNC_cl']<= 40),'CNC candidate']=1\n",
    "    df.loc[(df['CNC_ip']>40)&(df['CNC_cl']>40),'CNC candidate']=0\n",
    "    #df.drop(df['CNC candidate']==0)\n",
    "    return df\n",
    "# medicare candidate= over 65 less than 40% (az quiet or +10) binaural\n",
    "def create_Medicare_candidacy_col(df):\n",
    "    df['Medicare candidate'] = (((df['AzBio10SNR_bi'] <= 40) | (df['AzBioQuiet_bi'] <= 40)) & (df['Age'] >= 65))\n",
    "    return df"
   ]
  },
  {
   "cell_type": "code",
   "execution_count": 8,
   "id": "5a4de704",
   "metadata": {},
   "outputs": [],
   "source": [
    "#remove SSD candidates\n",
    "def exclude_SSD(df):\n",
    "    df['SSDCandidate'].fillna('No', inplace=True)\n",
    "    df= df.loc[df['SSDCandidate'] != 'Yes']\n",
    "    return df"
   ]
  },
  {
   "cell_type": "code",
   "execution_count": 9,
   "id": "c322ad46",
   "metadata": {},
   "outputs": [],
   "source": [
    "def Fixerrors_CI_Dataset(df):\n",
    "    nadict = {'na':np.nan,'NT':np.nan,'not tested':np.nan,'DNT':np.nan,'NA':np.nan,'dnt':np.nan, ' NA':np.nan, 'nan':np.nan, 'nA':np.nan, 'NA ':np.nan,'no info':np.nan, 'NO':'No', 'YES':'Yes','MA':np.nan,'nan':np.nan,'NA\\n':np.nan}\n",
    "    df = df.replace(nadict)\n",
    "    return df\n",
    "\n",
    "#CI specific changes\n",
    "def CI_changes(df):\n",
    "    CI_specific_changes = {'NotKnown':99,'Unknown':99,'unsure':99,'unknown, see TELEPHONE use note':99,'unknown; at least several years':99,'125':120,'CNT':0,'cnt':0,'NR':120,'NR125':120,'N':np.nan,'nr':120,'unknown':99,'unknown ':99,'unsure':99}\n",
    "    df= df.replace(CI_specific_changes)\n",
    "    return df\n",
    "    \n",
    "def year_replace(df):\n",
    "#####################################replaced -0.1 with 0? ask Dr.Shew#################################################################\n",
    "    years_or_monthsdict={'4 yrs':4,'10yrs':10,'3 years':3,'At Birth':0,'at least 20':20,'childhood': 10,'8 months':0.7,\n",
    "                         '70s':70,'35yrs':35,'35 years':35,'60s':60,'58 years':58,'identified at 58 ':58,'possibly congenital, less than 3':0,\n",
    "                         '2 months':1.6,'10-12yrs':11,'1 month':1,'3 months':0.25,'6 months':0.5,'4 months':0.3,'< 1 yr':1,'1yr':1,\n",
    "                         '1-2 years':1.5,'45 years':45,'early 20s':20,'3-5 yrs':4,'Birth/congenital':0,'Birth/Congenital':0,'Birth':0,\n",
    "                         'likely congenital':0,'At least 60':60,'childhood; diagnosed ~12 yrs old':12,'unknown, childhood':10,\n",
    "                         'birth':0,'35 years':35,'10 years':10,'5 or 6 yrs of age':5.5,'At Birth':0,'birth, possibly; Dx at age 4':0,\n",
    "                         'early 20s':20,'Likely since birth':0,'likely congenital, confirmed at 3yo':0,'childhood; diagnosed ~12 yrs old':12,\n",
    "                         'unsure, possibly late 40s':47,'20s':25,'18 months':1.5,'1.5 years':1.5,'9 months':0.75, '12-15 years':13.5, \n",
    "                         'unknown, maybe 10':10,'identified at 58':58, '10 months':0.8,'72 years':72,'4 years':4,'6 months':0.5, '4 yrs':4,\n",
    "                         'HL stable for about 1 year:':1,'30 years': 30,'5 yrs':5,'5 years':5,'possibly 46 years':46,'2 years':2,\n",
    "                         '2 years':2,'never worn':np.nan,'unknown, maybe 10':10,'unknown, childhood':10,'1 year':1,'2-3':2.5,'Possibly in childhood':10}\n",
    "    df=df.replace(years_or_monthsdict)\n",
    "    return df\n",
    "#childhood unknowns set to 10"
   ]
  },
  {
   "cell_type": "code",
   "execution_count": 10,
   "id": "83cec6e0",
   "metadata": {},
   "outputs": [
    {
     "ename": "NameError",
     "evalue": "name 'CI_df_final' is not defined",
     "output_type": "error",
     "traceback": [
      "\u001b[0;31m---------------------------------------------------------------------------\u001b[0m",
      "\u001b[0;31mNameError\u001b[0m                                 Traceback (most recent call last)",
      "Cell \u001b[0;32mIn[10], line 1\u001b[0m\n\u001b[0;32m----> 1\u001b[0m msno\u001b[38;5;241m.\u001b[39mmatrix(CI_df_final, labels\u001b[38;5;241m=\u001b[39m\u001b[38;5;28;01mTrue\u001b[39;00m)\n\u001b[1;32m      2\u001b[0m plt\u001b[38;5;241m.\u001b[39mshow()\n",
      "\u001b[0;31mNameError\u001b[0m: name 'CI_df_final' is not defined"
     ]
    }
   ],
   "source": [
    "msno.matrix(CI_df_final, labels=True)\n",
    "plt.show()"
   ]
  },
  {
   "cell_type": "code",
   "execution_count": 11,
   "id": "54b6bead",
   "metadata": {},
   "outputs": [],
   "source": [
    "def remove_empty_col(df):\n",
    "    df.dropna(how='any', inplace=True)\n",
    "    return df"
   ]
  },
  {
   "cell_type": "markdown",
   "id": "ff581fe1",
   "metadata": {},
   "source": [
    "# Change Columns for Merging (laterality, new columns)"
   ]
  },
  {
   "cell_type": "code",
   "execution_count": 12,
   "id": "9455706d",
   "metadata": {},
   "outputs": [],
   "source": [
    "def Laterality(df):\n",
    "    df['Lat'] = df['Lat'].replace({'Left':0,'Right':1})\n",
    "    col_root=[\n",
    "        'Etiology',\n",
    "        'HLdur',\n",
    "        'HLdurSP',\n",
    "        'HLprg',\n",
    "        'HAcur',\n",
    "        'HAyrs',\n",
    "        'PriorES',\n",
    "        'Tinnitus',\n",
    "        'WRS',\n",
    "        'hz125',\n",
    "        'hz250',\n",
    "        'hz500',\n",
    "        'hz1000',\n",
    "        'hz2000',\n",
    "        'hz3000',\n",
    "        'hz4000',\n",
    "        'hz6000',\n",
    "        'hz8000',\n",
    "        'CNC',\n",
    "        'AzBioQuiet', \n",
    "        'AzBio10SNR',\n",
    "        'AzBio5SNR',\n",
    "        'CanUseTele'\n",
    "    ]\n",
    "\n",
    "    for root in col_root:\n",
    "        ip_cols=root+\"_ip\"\n",
    "        cl_cols=root+\"_cl\"\n",
    "        left_col=root+\"_L\"\n",
    "        right_col=root+\"_R\"   \n",
    "        df[left_col]=df[ip_cols].where(df['Lat'] == 0, df[cl_cols])\n",
    "        df[right_col]=df[ip_cols].where(df['Lat'] == 1, df[cl_cols])\n",
    "    cl_ip_col=[\n",
    "        'Etiology_ip',\n",
    "        'Etiology_cl',\n",
    "        'HLdur_ip',\n",
    "        'HLdur_cl',\n",
    "        'HLdurSP_ip',\n",
    "        'HLdurSP_cl',\n",
    "        'HLprg_ip',\n",
    "        'HLprg_cl',\n",
    "        'HAcur_ip',\n",
    "        'HAcur_cl',\n",
    "        'HAyrs_cl',\n",
    "        'HAyrs_ip',\n",
    "        'PriorES_ip',\n",
    "        'PriorES_cl',\n",
    "        'Tinnitus_ip',\n",
    "        'Tinnitus_cl',\n",
    "        'hz125_ip',\n",
    "        'hz250_ip',\n",
    "        'hz500_ip',\n",
    "        'hz1000_ip',\n",
    "        'hz2000_ip',\n",
    "        'hz3000_ip',\n",
    "        'hz4000_ip',\n",
    "        'hz6000_ip',\n",
    "        'hz8000_ip',\n",
    "        'hz125_cl',\n",
    "        'hz250_cl',\n",
    "        'hz500_cl',\n",
    "        'hz1000_cl',\n",
    "        'hz2000_cl',\n",
    "        'hz3000_cl',\n",
    "        'hz4000_cl',\n",
    "        'hz6000_cl',\n",
    "        'hz8000_cl',\n",
    "        'WRS_ip',\n",
    "        'WRS_cl',\n",
    "        'CNC_ip',\n",
    "        'CNC_cl',\n",
    "        'AzBioQuiet_ip',\n",
    "        'AzBioQuiet_cl',\n",
    "        'AzBio10SNR_ip',\n",
    "        'AzBio10SNR_cl',\n",
    "        'AzBio5SNR_cl',\n",
    "        'AzBio5SNR_ip',\n",
    "        'CanUseTele_ip',\n",
    "        'CanUseTele_cl',\n",
    "        'Lat'\n",
    "        ]\n",
    "    df=df.drop(cl_ip_col, axis=1)\n",
    "\n",
    "\n",
    "    return df\n",
    "    \n",
    "        ##do same to create left cols, then drop ip and cl cols"
   ]
  },
  {
   "cell_type": "code",
   "execution_count": 13,
   "id": "242c591f",
   "metadata": {},
   "outputs": [],
   "source": [
    "def HA_use_col(df):\n",
    "    df['Patient Data::Left Hearing Aid Use']=(df['HAcur_L']=='Yes')|(df['HAyrs_L']>0)\n",
    "    df['Patient Data::Right Hearing Aid Use']=(df['HAcur_R']=='Yes')|(df['HAyrs_R']>0)\n",
    "    df['Patient Data::Left Hearing Aid Use'].fillna(False)\n",
    "    df['Patient Data::Right Hearing Aid Use'].fillna(False)\n",
    "    return df \n"
   ]
  },
  {
   "cell_type": "code",
   "execution_count": 14,
   "id": "985d75ef",
   "metadata": {},
   "outputs": [],
   "source": [
    "###HA use bilateral vs. L and R columns"
   ]
  },
  {
   "cell_type": "code",
   "execution_count": 15,
   "id": "0990563c",
   "metadata": {},
   "outputs": [],
   "source": [
    "def yrs_since_no_HA_use(df):\n",
    "    df.loc[df['HAcur_L']=='Yes','Patient Data::Left Years since No HA Use']=0\n",
    "     \n",
    "    df.loc[df['HAcur_R']=='Yes','Patient Data::Right Years since No HA use']=0\n",
    "    return df"
   ]
  },
  {
   "cell_type": "markdown",
   "id": "fc346684",
   "metadata": {},
   "source": [
    "# Impute PTA values"
   ]
  },
  {
   "cell_type": "code",
   "execution_count": 16,
   "id": "c31b6469",
   "metadata": {},
   "outputs": [],
   "source": [
    "def impute_PTA(df):\n",
    "    df['L PTA (500, 1K, 2K, 4K)']=df[['hz500_L', 'hz1000_L', 'hz2000_L','hz4000_L']].mean(axis=1,skipna=True)\n",
    "    df['L PTA (500, 1K, 2K)']=df[['hz500_L', 'hz1000_L', 'hz2000_L']].mean(axis=1,skipna=True)\n",
    "    df['Left Low Freq PTA (250, 500)']=df[['hz250_L','hz500_L']].mean(axis=1,skipna=True)\n",
    "    df['Left Low Frequency PTA (125, 250, 500)']=df[['hz500_L', 'hz250_L', 'hz125_L']].mean(axis=1,skipna=True)\n",
    "    df['R PTA (500, 1K, 2K, 4K)'] =  df[['hz500_R', 'hz1000_R', 'hz2000_R','hz4000_R']].mean(axis=1,skipna=True)\n",
    "    df['R PTA (500, 1K, 2K)'] =  df[['hz500_R', 'hz1000_R', 'hz2000_R']].mean(axis=1,skipna=True)\n",
    "    df['Right Low Freq PTA (250, 500)'] =  df[['hz500_R', 'hz250_R']].mean(axis=1,skipna=True)\n",
    "    df['Right Low Frequency PTA (125, 250, 500)']=df[['hz125_R','hz500_R', 'hz250_R']].mean(axis=1,skipna=True)\n",
    "    return df\n",
    "    \n"
   ]
  },
  {
   "cell_type": "code",
   "execution_count": 17,
   "id": "6f5942f4",
   "metadata": {},
   "outputs": [],
   "source": [
    "def Age_of_onset(df):\n",
    "    df['Patient Data::Right Age of Onset']=df['Age']-df['HLdur_R']  \n",
    "    df['Patient Data::Left Age of Onset']=df['Age']-df['HLdur_R']\n",
    "    return df"
   ]
  },
  {
   "cell_type": "code",
   "execution_count": null,
   "id": "45b2c916",
   "metadata": {},
   "outputs": [],
   "source": []
  },
  {
   "cell_type": "code",
   "execution_count": null,
   "id": "2b77b719",
   "metadata": {},
   "outputs": [],
   "source": []
  }
 ],
 "metadata": {
  "kernelspec": {
   "display_name": "Python 3 (ipykernel)",
   "language": "python",
   "name": "python3"
  },
  "language_info": {
   "codemirror_mode": {
    "name": "ipython",
    "version": 3
   },
   "file_extension": ".py",
   "mimetype": "text/x-python",
   "name": "python",
   "nbconvert_exporter": "python",
   "pygments_lexer": "ipython3",
   "version": "3.11.7"
  }
 },
 "nbformat": 4,
 "nbformat_minor": 5
}
